{
 "cells": [
  {
   "cell_type": "markdown",
   "id": "3c6a5b55-54a0-4079-8e9a-b104f78b073a",
   "metadata": {},
   "source": [
    "# Analisis de Sentimientos en Espanol\n",
    "## Utilizando un modelo previamente entrenado con Naive Bayes\n",
    "\n",
    "En este cuaderno se especifica la implementacion de un analisis de sentimientos con un modelo pre-entrenado que utiliza por detras Naive Bayes y TFIDF para el preprocesamiento de texto. Hecho por Elliot Hofman: [REFERENCIA](https://github.com/aylliote/senti-py)"
   ]
  },
  {
   "cell_type": "code",
   "execution_count": null,
   "id": "eb4071a3-d85b-45bc-8871-065672ea0793",
   "metadata": {},
   "outputs": [],
   "source": [
    "%pip install sentiment-analysis-spanish"
   ]
  },
  {
   "cell_type": "code",
   "execution_count": null,
   "id": "91d61092-11d4-4195-912a-5580481f083e",
   "metadata": {},
   "outputs": [],
   "source": [
    "%pip install scikit-learn"
   ]
  },
  {
   "cell_type": "code",
   "execution_count": 1,
   "id": "750b40a3-2d82-4dd3-9f0b-8a566e1d69bf",
   "metadata": {},
   "outputs": [
    {
     "name": "stderr",
     "output_type": "stream",
     "text": [
      "C:\\Users\\Edwin Reyes\\AppData\\Local\\Programs\\Python\\Python312\\Lib\\site-packages\\sklearn\\base.py:376: InconsistentVersionWarning: Trying to unpickle estimator CountVectorizer from version 0.23.2 when using version 1.5.2. This might lead to breaking code or invalid results. Use at your own risk. For more info please refer to:\n",
      "https://scikit-learn.org/stable/model_persistence.html#security-maintainability-limitations\n",
      "  warnings.warn(\n",
      "C:\\Users\\Edwin Reyes\\AppData\\Local\\Programs\\Python\\Python312\\Lib\\site-packages\\sklearn\\base.py:376: InconsistentVersionWarning: Trying to unpickle estimator MultinomialNB from version 0.23.2 when using version 1.5.2. This might lead to breaking code or invalid results. Use at your own risk. For more info please refer to:\n",
      "https://scikit-learn.org/stable/model_persistence.html#security-maintainability-limitations\n",
      "  warnings.warn(\n"
     ]
    }
   ],
   "source": [
    "# Importar la libreria\n",
    "from sentiment_analysis_spanish import sentiment_analysis\n",
    "\n",
    "# Instanciar el clasificador, esto puede demorar un poco\n",
    "sentiment = sentiment_analysis.SentimentAnalysisSpanish()"
   ]
  },
  {
   "cell_type": "markdown",
   "id": "1dd99265-75a8-4c1e-ad74-776dd184c4d9",
   "metadata": {},
   "source": [
    "Ejecutaremos 3 ejemplos. Uno de un mensaje positivo, un mensaje negativo y otro mensaje neutral. Y veremos como la libreria detecta la polaridad de cada uno de estos mensajes"
   ]
  },
  {
   "cell_type": "code",
   "execution_count": 5,
   "id": "d32f225d-ba59-4be9-9e4c-023b444390fa",
   "metadata": {},
   "outputs": [],
   "source": [
    "x = \"Esta muy buena pelicula\"\n",
    "y = \"Que horrible comida!!!\"\n",
    "z = \"Tuve una experiencia neutral\""
   ]
  },
  {
   "cell_type": "code",
   "execution_count": 6,
   "id": "429f42ed-b192-4533-a6db-caed0783c635",
   "metadata": {},
   "outputs": [
    {
     "data": {
      "text/plain": [
       "0.9837894190380906"
      ]
     },
     "execution_count": 6,
     "metadata": {},
     "output_type": "execute_result"
    }
   ],
   "source": [
    "sentiment.sentiment(x)"
   ]
  },
  {
   "cell_type": "code",
   "execution_count": 7,
   "id": "30ee34b1-27cd-4dd4-993e-81541b18cc3b",
   "metadata": {},
   "outputs": [
    {
     "data": {
      "text/plain": [
       "0.0009285127385591881"
      ]
     },
     "execution_count": 7,
     "metadata": {},
     "output_type": "execute_result"
    }
   ],
   "source": [
    "sentiment.sentiment(y)"
   ]
  },
  {
   "cell_type": "code",
   "execution_count": 8,
   "id": "01fd27fb-4e39-466a-9e6f-6f52138d85cc",
   "metadata": {},
   "outputs": [
    {
     "data": {
      "text/plain": [
       "0.20714292719952648"
      ]
     },
     "execution_count": 8,
     "metadata": {},
     "output_type": "execute_result"
    }
   ],
   "source": [
    "sentiment.sentiment(z)"
   ]
  },
  {
   "cell_type": "code",
   "execution_count": null,
   "id": "beffa422-5c51-4123-98fc-5850902b5e7e",
   "metadata": {},
   "outputs": [],
   "source": []
  }
 ],
 "metadata": {
  "kernelspec": {
   "display_name": "Python 3 (ipykernel)",
   "language": "python",
   "name": "python3"
  },
  "language_info": {
   "codemirror_mode": {
    "name": "ipython",
    "version": 3
   },
   "file_extension": ".py",
   "mimetype": "text/x-python",
   "name": "python",
   "nbconvert_exporter": "python",
   "pygments_lexer": "ipython3",
   "version": "3.12.2"
  }
 },
 "nbformat": 4,
 "nbformat_minor": 5
}
