{
 "cells": [
  {
   "cell_type": "markdown",
   "id": "06db071b-48ce-4ead-9c63-be43c1a55c33",
   "metadata": {},
   "source": [
    "# Mi primer cuaderno\n",
    "## Este es mi primer cuaderno de Jupyter\n",
    "### Aqui vamos a hacer cosas muy interesantes\n",
    "\n",
    "Entre las cosas que haremos se encuentra:\n",
    "- Vamos a hacer analisis de sentimientos\n",
    "- Vamos a imprimir \"mensajes\"\n",
    "- Y muchas cosas **mas**\n",
    "\n",
    "![imagen](https://cdn.xlstat.com/media/feature/0001/03/thumb_2138_feature_medium.png)"
   ]
  },
  {
   "cell_type": "code",
   "execution_count": null,
   "id": "0ba375cd-9b37-4eb0-ba17-05cc91076c93",
   "metadata": {},
   "outputs": [],
   "source": [
    "# Hola Mundo\n",
    "print(\"Este es el bloque 1\")\n",
    "x = 10\n",
    "\n",
    "print(\"Este es el bloque 2\")\n",
    "print(\"Variable X:\", x)"
   ]
  },
  {
   "cell_type": "code",
   "execution_count": null,
   "id": "1239a76b-ea6f-4531-9da8-003595b9c921",
   "metadata": {},
   "outputs": [],
   "source": []
  }
 ],
 "metadata": {
  "kernelspec": {
   "display_name": "Python 3 (ipykernel)",
   "language": "python",
   "name": "python3"
  },
  "language_info": {
   "codemirror_mode": {
    "name": "ipython",
    "version": 3
   },
   "file_extension": ".py",
   "mimetype": "text/x-python",
   "name": "python",
   "nbconvert_exporter": "python",
   "pygments_lexer": "ipython3",
   "version": "3.12.2"
  }
 },
 "nbformat": 4,
 "nbformat_minor": 5
}
