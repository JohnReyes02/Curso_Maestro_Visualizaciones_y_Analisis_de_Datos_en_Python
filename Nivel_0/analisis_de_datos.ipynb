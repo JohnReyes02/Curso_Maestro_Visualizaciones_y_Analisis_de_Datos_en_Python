{
 "cells": [
  {
   "cell_type": "markdown",
   "metadata": {},
   "source": [
    "# Análisis de datos\n",
    "\n",
    "Por dónde debemos empezar el análisis de datos:\n",
    "\n",
    "1. Inspección\n",
    "Cargar los datos en un DataFrame de datos en pandas\n",
    "- Cuántas columnas tengo?\n",
    "- Cuáles me interesan?\n",
    "- Qué tipo de datos tienen?\n",
    "- Cuáles son los rangos de mis variables? `df.describe()`\n",
    "- Qué tienen mis variables categóricas?\n",
    "  Usar Jupyter Notebook, Pandas\n",
    "- Detectar valores vacíos o nulos (NaN)\n",
    "- Nunca perder de vista el objetivo.\n",
    "\n",
    "2. Curación\n",
    "- Corregir los tipos de variables. Ej: Convertir str de fechas\n",
    "- Tratamiento de datos vacíos o NaN\n",
    "- Transformaciones de datos\n",
    "- Calcular nuevas columnas\n",
    "- Filtrado de datos\n",
    "- Filtrado y agrupacion de datos\n",
    "\n",
    "3. Análisis Visual\n",
    "\n",
    "4. Machine Learning (Modelamiento y Validación)"
   ]
  },
  {
   "cell_type": "markdown",
   "metadata": {},
   "source": []
  }
 ],
 "metadata": {
  "language_info": {
   "name": "python"
  }
 },
 "nbformat": 4,
 "nbformat_minor": 2
}
