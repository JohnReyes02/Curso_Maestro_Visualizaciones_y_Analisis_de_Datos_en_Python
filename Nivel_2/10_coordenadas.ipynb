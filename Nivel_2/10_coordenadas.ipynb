{
 "cells": [
  {
   "cell_type": "markdown",
   "id": "f43ce2ec-4e62-42e1-b44b-e680c992409e",
   "metadata": {},
   "source": [
    "## Diagrama de coordenadas paralelas\n",
    "Gráfico con el que podemos comparar varias observaciones **individuales** a través de los valores de sus variables. Es un gráfico que solo consiste en múltiples Ejes Y. Cada Eje representa el rango de una variable de interés. Los valores que tomas las variables de una misma observación se conectan con líneas. De este modo podemos hallar como se encuentran relacionadas las variables. \n",
    "**Ejes Y**: Variable numérica o categórica.\n"
   ]
  },
  {
   "cell_type": "code",
   "execution_count": null,
   "id": "9b313330-6a7f-47ec-b612-eb9d31a83d14",
   "metadata": {},
   "outputs": [],
   "source": []
  }
 ],
 "metadata": {
  "kernelspec": {
   "display_name": "Python 3 (ipykernel)",
   "language": "python",
   "name": "python3"
  },
  "language_info": {
   "codemirror_mode": {
    "name": "ipython",
    "version": 3
   },
   "file_extension": ".py",
   "mimetype": "text/x-python",
   "name": "python",
   "nbconvert_exporter": "python",
   "pygments_lexer": "ipython3",
   "version": "3.8.10"
  }
 },
 "nbformat": 4,
 "nbformat_minor": 5
}
