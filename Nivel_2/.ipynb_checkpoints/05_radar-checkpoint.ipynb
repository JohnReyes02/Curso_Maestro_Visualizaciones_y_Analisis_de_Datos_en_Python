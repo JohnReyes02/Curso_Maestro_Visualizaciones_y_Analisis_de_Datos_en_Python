{
 "cells": [
  {
   "cell_type": "code",
   "execution_count": null,
   "id": "5b98151a-8a52-4ce1-8c71-8d96b31888f7",
   "metadata": {},
   "outputs": [],
   "source": []
  }
 ],
 "metadata": {
  "kernelspec": {
   "display_name": "Python 3 (ipykernel)",
   "language": "python",
   "name": "python3"
  },
  "language_info": {
   "codemirror_mode": {
    "name": "ipython",
    "version": 3
   },
   "file_extension": ".py",
   "mimetype": "text/x-python",
   "name": "python",
   "nbconvert_exporter": "python",
   "pygments_lexer": "ipython3",
   "version": "3.12.2"
  }
 },
 "nbformat": 4,
 "nbformat_minor": 5
}
